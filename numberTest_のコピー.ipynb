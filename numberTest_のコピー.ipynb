{
  "nbformat": 4,
  "nbformat_minor": 0,
  "metadata": {
    "colab": {
      "name": "numberTest のコピー",
      "version": "0.3.2",
      "provenance": [],
      "collapsed_sections": [],
      "include_colab_link": true
    },
    "kernelspec": {
      "name": "python3",
      "display_name": "Python 3"
    },
    "accelerator": "GPU"
  },
  "cells": [
    {
      "cell_type": "markdown",
      "metadata": {
        "id": "view-in-github",
        "colab_type": "text"
      },
      "source": [
        "<a href=\"https://colab.research.google.com/github/RamsesSs/flaskTest/blob/master/numberTest_%E3%81%AE%E3%82%B3%E3%83%94%E3%83%BC.ipynb\" target=\"_parent\"><img src=\"https://colab.research.google.com/assets/colab-badge.svg\" alt=\"Open In Colab\"/></a>"
      ]
    },
    {
      "metadata": {
        "id": "bzjfey8JJHfb",
        "colab_type": "code",
        "outputId": "db4a9a40-06f1-4856-d0c7-bcbf291f1a6f",
        "colab": {
          "base_uri": "https://localhost:8080/",
          "height": 34
        }
      },
      "cell_type": "code",
      "source": [
        "import keras\n",
        "from keras.datasets import mnist\n",
        "from matplotlib import pyplot as plt"
      ],
      "execution_count": 0,
      "outputs": [
        {
          "output_type": "stream",
          "text": [
            "Using TensorFlow backend.\n"
          ],
          "name": "stderr"
        }
      ]
    },
    {
      "metadata": {
        "id": "ybEYcJDJPey2",
        "colab_type": "code",
        "outputId": "b88937f9-1849-4bc9-fd6d-268d1cae0f8e",
        "colab": {
          "base_uri": "https://localhost:8080/",
          "height": 52
        }
      },
      "cell_type": "code",
      "source": [
        "(x_train, y_train), (x_test, y_test)=mnist.load_data()"
      ],
      "execution_count": 0,
      "outputs": [
        {
          "output_type": "stream",
          "text": [
            "Downloading data from https://s3.amazonaws.com/img-datasets/mnist.npz\n",
            "11493376/11490434 [==============================] - 0s 0us/step\n"
          ],
          "name": "stdout"
        }
      ]
    },
    {
      "metadata": {
        "id": "WXuOUy50PteK",
        "colab_type": "code",
        "outputId": "fc9f20de-aa80-4857-eabb-3950c4b5a8b5",
        "colab": {
          "base_uri": "https://localhost:8080/",
          "height": 333
        }
      },
      "cell_type": "code",
      "source": [
        "for i in range(0, 32):\n",
        "  plt.subplot(4, 8, i + 1)\n",
        "  plt.axis(\"off\")\n",
        "  plt.imshow(x_train[i], cmap=\"gray\")"
      ],
      "execution_count": 0,
      "outputs": [
        {
          "output_type": "display_data",
          "data": {
            "image/png": "[encoded data removed]",
            "text/plain": [
              "<Figure size 576x396 with 32 Axes>"
            ]
          },
          "metadata": {
            "tags": []
          }
        }
      ]
    },
    {
      "metadata": {
        "id": "48581Z42RPhL",
        "colab_type": "code",
        "colab": {}
      },
      "cell_type": "code",
      "source": [
        "x_train = x_train.reshape(-1,784).astype(\"float32\") / 255\n",
        "x_test = x_test.reshape(-1,784).astype(\"float32\") / 255\n",
        "y_train = keras.utils.np_utils.to_categorical(y_train.astype(\"int32\"),10)\n",
        "y_test = keras.utils.np_utils.to_categorical(y_test.astype(\"int32\"), 10)"
      ],
      "execution_count": 0,
      "outputs": []
    },
    {
      "metadata": {
        "id": "Qy3K8ETQWwEh",
        "colab_type": "code",
        "colab": {}
      },
      "cell_type": "code",
      "source": [
        "in_size = 28 * 28\n",
        "out_size = 10\n",
        "Dense = keras.layers.Dense\n",
        "model = keras.models.Sequential()\n",
        "model.add(Dense(512, activation=\"relu\", input_shape=(in_size,)))\n",
        "model.add(Dense(out_size, activation=\"softmax\"))"
      ],
      "execution_count": 0,
      "outputs": []
    },
    {
      "metadata": {
        "id": "4Yt4WBi4Raro",
        "colab_type": "code",
        "colab": {}
      },
      "cell_type": "code",
      "source": [
        "model.compile(\n",
        "    loss=\"categorical_crossentropy\",\n",
        "    optimizer=\"adam\",\n",
        "    metrics=[\"accuracy\"])"
      ],
      "execution_count": 0,
      "outputs": []
    },
    {
      "metadata": {
        "id": "0IbgmkUhLibG",
        "colab_type": "code",
        "colab": {}
      },
      "cell_type": "code",
      "source": [
        "model.fit(x_train, y_train,\n",
        "          batch_size=20, epochs=20)"
      ],
      "execution_count": 0,
      "outputs": []
    },
    {
      "metadata": {
        "id": "UkXTVpE6Te1H",
        "colab_type": "code",
        "colab": {}
      },
      "cell_type": "code",
      "source": [
        "score = model.evaluate(x_test, y_test, verbose=1)\n",
        "print(\"正解率：=\", score[1], \"loss:=\", score[0])"
      ],
      "execution_count": 0,
      "outputs": []
    },
    {
      "metadata": {
        "id": "h_ruVb_UVpIR",
        "colab_type": "code",
        "colab": {}
      },
      "cell_type": "code",
      "source": [
        "model.save_weights(\"mnist-weight.h5\")"
      ],
      "execution_count": 0,
      "outputs": []
    },
    {
      "metadata": {
        "id": "PkmZ4tT1W-8n",
        "colab_type": "code",
        "colab": {}
      },
      "cell_type": "code",
      "source": [
        "clf = joblib.load(\"digits.pkl\")"
      ],
      "execution_count": 0,
      "outputs": []
    },
    {
      "metadata": {
        "id": "HrbNlZKhXVDU",
        "colab_type": "code",
        "colab": {}
      },
      "cell_type": "code",
      "source": [
        "from google.colab import files\n",
        "uploaded = files.upload()"
      ],
      "execution_count": 0,
      "outputs": []
    },
    {
      "metadata": {
        "id": "2IF19tV_ZJog",
        "colab_type": "text"
      },
      "cell_type": "markdown",
      "source": [
        "上の実行後にファイルをアップロードするボタンが出るので、そこに画像データを上げる"
      ]
    },
    {
      "metadata": {
        "id": "KL8gKHqWZC_p",
        "colab_type": "code",
        "colab": {}
      },
      "cell_type": "code",
      "source": [
        "import numpy as np\n",
        "import cv2"
      ],
      "execution_count": 0,
      "outputs": []
    },
    {
      "metadata": {
        "id": "8bZB-6TJZd8g",
        "colab_type": "code",
        "colab": {}
      },
      "cell_type": "code",
      "source": [
        "def predict_digit(filename):\n",
        "  model.load_weights(\"mnist-weight.h5\")\n",
        "  my_img = cv2.imread(filename)\n",
        "  my_img = cv2.cvtColor(my_img, cv2.COLOR_BGR2GRAY)\n",
        "  my_img = cv2.resize(my_img, (28, 28))\n",
        "  #plt.imshow(\"my_img\")\n",
        "  my_img = 15 - my_img //16\n",
        "  my_img = my_img.reshape((-1,784))\n",
        "  res = model.predict(np.array(my_img), batch_size=20)\n",
        "  return res.argmax()"
      ],
      "execution_count": 0,
      "outputs": []
    },
    {
      "metadata": {
        "id": "qFWgcOFZaRkN",
        "colab_type": "code",
        "colab": {}
      },
      "cell_type": "code",
      "source": [
        "n = predict_digit(\"sketch-1548409344886.png\")"
      ],
      "execution_count": 0,
      "outputs": []
    },
    {
      "metadata": {
        "id": "_m2y1qBSblfG",
        "colab_type": "code",
        "outputId": "c386ee0c-8d6a-471d-811b-042b16aa9709",
        "colab": {
          "base_uri": "https://localhost:8080/",
          "height": 34
        }
      },
      "cell_type": "code",
      "source": [
        "print(\"sketch-1548409344886.png = \" + str(n))"
      ],
      "execution_count": 0,
      "outputs": [
        {
          "output_type": "stream",
          "text": [
            "sketch-1548409344886.png = 6\n"
          ],
          "name": "stdout"
        }
      ]
    }
  ]
}